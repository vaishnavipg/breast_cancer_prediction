{
 "cells": [
  {
   "cell_type": "code",
   "execution_count": 1,
   "id": "a33c9c77",
   "metadata": {},
   "outputs": [],
   "source": [
    "from keras.models import load_model\n",
    "from keras.preprocessing import image\n",
    "import numpy as np"
   ]
  },
  {
   "cell_type": "code",
   "execution_count": 2,
   "id": "0630d9ed",
   "metadata": {},
   "outputs": [],
   "source": [
    "model= load_model(\"breastcancer.h5\")"
   ]
  },
  {
   "cell_type": "code",
   "execution_count": 7,
   "id": "ff570ae8",
   "metadata": {},
   "outputs": [],
   "source": [
    "img = image.load_img(\"breastcancerdataset/IDC_regular_ps50_idx5/8863/1/8863_idx5_x1001_y801_class1.png\", target_size=(50, 50))\n"
   ]
  },
  {
   "cell_type": "code",
   "execution_count": 8,
   "id": "d625d068",
   "metadata": {},
   "outputs": [
    {
     "name": "stdout",
     "output_type": "stream",
     "text": [
      "1/1 [==============================] - 0s 15ms/step\n"
     ]
    }
   ],
   "source": [
    "x = image.img_to_array(img)\n",
    "x = np.expand_dims(x,axis = 0)\n",
    "pred = model.predict(x)\n"
   ]
  },
  {
   "cell_type": "code",
   "execution_count": 9,
   "id": "de780626",
   "metadata": {},
   "outputs": [
    {
     "data": {
      "text/plain": [
       "1.0"
      ]
     },
     "execution_count": 9,
     "metadata": {},
     "output_type": "execute_result"
    }
   ],
   "source": [
    "np.round(pred[0][1],0)"
   ]
  },
  {
   "cell_type": "code",
   "execution_count": null,
   "id": "c0bbc316",
   "metadata": {},
   "outputs": [],
   "source": []
  }
 ],
 "metadata": {
  "kernelspec": {
   "display_name": "Python 3 (ipykernel)",
   "language": "python",
   "name": "python3"
  },
  "language_info": {
   "codemirror_mode": {
    "name": "ipython",
    "version": 3
   },
   "file_extension": ".py",
   "mimetype": "text/x-python",
   "name": "python",
   "nbconvert_exporter": "python",
   "pygments_lexer": "ipython3",
   "version": "3.10.9"
  }
 },
 "nbformat": 4,
 "nbformat_minor": 5
}
